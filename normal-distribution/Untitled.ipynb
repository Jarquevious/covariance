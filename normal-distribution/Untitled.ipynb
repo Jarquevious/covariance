{
 "cells": [
  {
   "cell_type": "markdown",
   "metadata": {},
   "source": [
    "### 1. Skip"
   ]
  },
  {
   "cell_type": "markdown",
   "metadata": {},
   "source": [
    "### 2.  Former ISU basketball player Kelvin Cato is 83 inches tall. Assuming that heights follow approximately a \n",
    "\n",
    "### normal distribution with mean 70 and standard deviation σ = 3,\n",
    "\n",
    "### (a) what is his corresponding z-score?\n",
    "\n",
    "### (b) what proportion of men are taller than him?"
   ]
  },
  {
   "cell_type": "code",
   "execution_count": 7,
   "metadata": {},
   "outputs": [
    {
     "name": "stdout",
     "output_type": "stream",
     "text": [
      "Kelvin Cato z_score is 4.333333333333333\n"
     ]
    }
   ],
   "source": [
    "K_Cato_height=83\n",
    "K_Cato_mean=70\n",
    "K_Cato_std=3\n",
    "K_Cato_z_score=(K_Cato_height - K_Cato_mean)/K_Cato_std\n",
    "print('Kelvin Cato z_score is', K_Cato_z_score)"
   ]
  },
  {
   "cell_type": "code",
   "execution_count": 10,
   "metadata": {},
   "outputs": [
    {
     "name": "stdout",
     "output_type": "stream",
     "text": [
      "Percentage of players taller 0%\n"
     ]
    }
   ],
   "source": [
    "print('Percentage of players taller 0%')"
   ]
  },
  {
   "cell_type": "markdown",
   "metadata": {},
   "source": [
    "### 3. Since the length of a downhill ski is related to the height of the individuals renting them, it is fair\n",
    "\n",
    "### to assume that a normal distribution would describe the length of women’s skis at rental outlets in\n",
    "\n",
    "### Colorado. The mean of the distribution is 150 cm and the standard deviation is 10 cm.\n",
    "\n",
    "### (a) What is the proportion of women’s ski lengths that are less than 130 cm?\n",
    "\n",
    "### (b) What is the proportion of women’s ski lengths that are greater than 125 cm?\n",
    "\n",
    "### (c) What is the proportion of women’s ski lengths that are between 125 and 155?\n",
    "\n",
    "### (d) Very long skies are expensive and there are not many people who rent them. What is the longest\n",
    "\n",
    "### women’s ski a rental shop should carry so that only 2 percent of the costumers will ask to rent\n",
    "\n",
    "### a longer ski?"
   ]
  },
  {
   "cell_type": "code",
   "execution_count": 13,
   "metadata": {},
   "outputs": [
    {
     "name": "stdout",
     "output_type": "stream",
     "text": [
      "-2.0 2.28%\n"
     ]
    }
   ],
   "source": [
    "Ski_mean = 150\n",
    "Ski_std = 10\n",
    "z_score_130 = (130 - Ski_mean)/Ski_std\n",
    "print(z_score_130,\"2.28%\")"
   ]
  },
  {
   "cell_type": "code",
   "execution_count": 15,
   "metadata": {},
   "outputs": [
    {
     "name": "stdout",
     "output_type": "stream",
     "text": [
      "-2.5 99.38%\n"
     ]
    }
   ],
   "source": [
    "z_score_125 = (125 - Ski_mean)/Ski_std\n",
    "print(z_score_125, \"99.38%\")"
   ]
  },
  {
   "cell_type": "code",
   "execution_count": 17,
   "metadata": {},
   "outputs": [
    {
     "name": "stdout",
     "output_type": "stream",
     "text": [
      "0.5 68.53%\n"
     ]
    }
   ],
   "source": [
    "z_score_155 = (155 - Ski_mean)/Ski_std\n",
    "print(z_score_155, \"68.53%\")"
   ]
  },
  {
   "cell_type": "code",
   "execution_count": 21,
   "metadata": {},
   "outputs": [
    {
     "name": "stdout",
     "output_type": "stream",
     "text": [
      "170.54 cm\n"
     ]
    }
   ],
   "source": [
    "z_score_98_percentile = 2.054\n",
    "longest_ski = (z_score_98_percentile * Ski_std) + Ski_mean\n",
    "print(longest_ski, 'cm')"
   ]
  },
  {
   "cell_type": "markdown",
   "metadata": {},
   "source": [
    "### 4. The BMI for males age 20 to 74 is follows approximately a normal distribution with mean µ = 27.9\n",
    "### and standard deviation σ = 7.8. Use the 68-95-99.7 rule to find\n",
    "### (a) the percentage of males with BMI less than 20.1.\n",
    "### (b) the percentages of males with BMI greater than 12.3.\n",
    "### (c) the BMI values that correspond to the middle 99.7% of the distribution.\n",
    "### (d) the value such that 0.15% of males have BMI’s greater than the value."
   ]
  },
  {
   "cell_type": "code",
   "execution_count": 22,
   "metadata": {},
   "outputs": [
    {
     "name": "stdout",
     "output_type": "stream",
     "text": [
      "-0.9999999999999997 16.6%\n"
     ]
    }
   ],
   "source": [
    "BMI_mean = 27.9 \n",
    "BMI_std = 7.8\n",
    "male_less_twenty = (20.1 - BMI_mean)/BMI_std\n",
    "print(male_less_twenty, \"16.6%\")"
   ]
  },
  {
   "cell_type": "code",
   "execution_count": 23,
   "metadata": {},
   "outputs": [
    {
     "name": "stdout",
     "output_type": "stream",
     "text": [
      "-1.9999999999999998 97.7%\n"
     ]
    }
   ],
   "source": [
    "male_gt_twelve = (12.3 - BMI_mean)/BMI_std\n",
    "print(male_gt_twelve, \"97.7%\")"
   ]
  },
  {
   "cell_type": "code",
   "execution_count": 25,
   "metadata": {},
   "outputs": [
    {
     "name": "stdout",
     "output_type": "stream",
     "text": [
      "4.5 51.3\n"
     ]
    }
   ],
   "source": [
    "first_half = BMI_mean - (3 * BMI_std)\n",
    "second_half = BMI_mean + (3 * BMI_std)\n",
    "print(first_half, second_half)"
   ]
  },
  {
   "cell_type": "code",
   "execution_count": 27,
   "metadata": {},
   "outputs": [
    {
     "name": "stdout",
     "output_type": "stream",
     "text": [
      "51.050399999999996\n"
     ]
    }
   ],
   "source": [
    "z_score_99_percentile = 2.968\n",
    "a = (z_score_99_percentile * BMI_std) + BMI_mean\n",
    "print(a)"
   ]
  },
  {
   "cell_type": "code",
   "execution_count": null,
   "metadata": {},
   "outputs": [],
   "source": []
  }
 ],
 "metadata": {
  "kernelspec": {
   "display_name": "Python 3",
   "language": "python",
   "name": "python3"
  },
  "language_info": {
   "codemirror_mode": {
    "name": "ipython",
    "version": 3
   },
   "file_extension": ".py",
   "mimetype": "text/x-python",
   "name": "python",
   "nbconvert_exporter": "python",
   "pygments_lexer": "ipython3",
   "version": "3.7.7"
  }
 },
 "nbformat": 4,
 "nbformat_minor": 4
}

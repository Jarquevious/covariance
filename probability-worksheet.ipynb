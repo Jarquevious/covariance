{
 "cells": [
  {
   "cell_type": "code",
   "execution_count": null,
   "metadata": {},
   "outputs": [],
   "source": [
    "1. \n",
    "#a\n",
    "p=107/1200\n",
    "#b\n",
    "p=291/1200\n",
    "#c\n",
    "p=1/1200\n",
    "#d\n",
    "p=13/1200\n",
    "#e\n",
    "p=14/1200\n",
    "#f\n",
    "p=2/1200 = 1/600"
   ]
  },
  {
   "cell_type": "code",
   "execution_count": null,
   "metadata": {},
   "outputs": [],
   "source": [
    "2. \n",
    "#a\n",
    "p=91/150\n",
    "#b\n",
    "p="
   ]
  }
 ],
 "metadata": {
  "kernelspec": {
   "display_name": "Python 3",
   "language": "python",
   "name": "python3"
  },
  "language_info": {
   "codemirror_mode": {
    "name": "ipython",
    "version": 3
   },
   "file_extension": ".py",
   "mimetype": "text/x-python",
   "name": "python",
   "nbconvert_exporter": "python",
   "pygments_lexer": "ipython3",
   "version": "3.7.7"
  }
 },
 "nbformat": 4,
 "nbformat_minor": 4
}
